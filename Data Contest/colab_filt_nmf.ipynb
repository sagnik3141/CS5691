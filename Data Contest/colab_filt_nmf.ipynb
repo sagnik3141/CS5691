{
 "cells": [
  {
   "cell_type": "code",
   "execution_count": 1,
   "metadata": {},
   "outputs": [],
   "source": [
    "# Imports\n",
    "\n",
    "import numpy as np\n",
    "import matplotlib.pyplot as plt\n",
    "import seaborn as sns\n",
    "import pandas as pd\n",
    "import sklearn\n",
    "import catboost"
   ]
  },
  {
   "cell_type": "code",
   "execution_count": 2,
   "metadata": {},
   "outputs": [],
   "source": [
    "# Loading Data\n",
    "\n",
    "train = pd.read_csv('data/train.csv')\n",
    "songs = pd.read_csv('data/songs.csv')\n",
    "song_labels = pd.read_csv('data/song_labels.csv')\n",
    "test = pd.read_csv('data/test.csv')\n",
    "save_for_later = pd.read_csv('data/save_for_later.csv')\n",
    "dummy_submission = pd.read_csv('data/dummy_submission.csv')"
   ]
  },
  {
   "cell_type": "code",
   "execution_count": 3,
   "metadata": {},
   "outputs": [],
   "source": [
    "from sklearn.model_selection import train_test_split\n",
    "train_init, train_rem = train_test_split(train, train_size = 0.3, random_state = 1023)"
   ]
  },
  {
   "cell_type": "code",
   "execution_count": 4,
   "metadata": {},
   "outputs": [],
   "source": [
    "customer_id_list = train['customer_id'].unique()"
   ]
  },
  {
   "cell_type": "code",
   "execution_count": 5,
   "metadata": {},
   "outputs": [],
   "source": [
    "song_id_list = train['song_id'].unique()"
   ]
  },
  {
   "cell_type": "code",
   "execution_count": 6,
   "metadata": {},
   "outputs": [],
   "source": [
    "# Initializing Matrix Factorization\n",
    "learning_rate = 1e-2\n",
    "iters = 100\n",
    "dim = 100\n",
    "reg = 0.05\n",
    "# Initialization\n",
    "\n",
    "customer_weights = {}\n",
    "for customer in customer_id_list:\n",
    "    np.random.seed(0)\n",
    "    customer_weights[customer] = np.random.uniform(0, 10e-10, dim)\n",
    "    \n",
    "song_weights = {}\n",
    "for song in song_id_list:\n",
    "    np.random.seed(0)\n",
    "    song_weights[song] = np.random.uniform(0, 10e-10, dim)"
   ]
  },
  {
   "cell_type": "code",
   "execution_count": 7,
   "metadata": {},
   "outputs": [
    {
     "name": "stdout",
     "output_type": "stream",
     "text": [
      "iter 0 rem 16.468380150358996 init 16.471464380938077\n",
      "iter 1 rem 16.468380150358936 init 16.47146438093789\n",
      "iter 2 rem 16.468380150347283 init 16.471464380924125\n",
      "iter 3 rem 16.468380149892933 init 16.47146438038872\n",
      "iter 4 rem 16.468380132103764 init 16.471464359401303\n",
      "iter 5 rem 16.468379435037072 init 16.471463536816636\n",
      "iter 6 rem 16.468352117963374 init 16.471431298626765\n",
      "iter 7 rem 16.467281812686732 init 16.47016818293299\n",
      "iter 8 rem 16.425717185030987 init 16.421159841086634\n",
      "iter 9 rem 15.215597728893067 init 15.031569498465272\n",
      "iter 10 rem 10.298923720012684 init 9.898934327811594\n",
      "iter 11 rem 6.494676186801549 init 6.062209058167402\n",
      "iter 12 rem 4.24886096224336 init 3.79021818874653\n",
      "iter 13 rem 2.9652660706698746 init 2.508350074538458\n",
      "iter 14 rem 2.226793946611942 init 1.7945647046929702\n",
      "iter 15 rem 1.784314524793565 init 1.3851894630010986\n",
      "iter 16 rem 1.5061857374770444 init 1.140014436723588\n",
      "iter 17 rem 1.3242825711015878 init 0.9876494127092059\n",
      "iter 18 rem 1.201515364501376 init 0.8901220298043532\n",
      "iter 19 rem 1.1164104884497286 init 0.8260382249324578\n",
      "iter 20 rem 1.0559561656898968 init 0.7828621058151595\n",
      "iter 21 rem 1.0120183042463171 init 0.7530543911999533\n",
      "iter 22 rem 0.9793901134060073 init 0.7319820236088351\n",
      "iter 23 rem 0.9546704238182756 init 0.7167417966184911\n",
      "iter 24 rem 0.9355950557178284 init 0.7054806487616373\n",
      "iter 25 rem 0.920628217746468 init 0.6969935289210993\n",
      "iter 26 rem 0.9087083497083911 init 0.6904813038323162\n",
      "iter 27 rem 0.899087778719609 init 0.6854032193643618\n",
      "iter 28 rem 0.8912301799159319 init 0.6813859238711425\n",
      "iter 29 rem 0.8847440558268292 init 0.6781665815798698\n",
      "iter 30 rem 0.8793389143328731 init 0.6755567223620855\n",
      "iter 31 rem 0.8747959293786958 init 0.6734188647469369\n",
      "iter 32 rem 0.8709479687052568 init 0.671651125511264\n",
      "iter 33 rem 0.867665769301359 init 0.670176904364101\n",
      "iter 34 rem 0.8648482106634102 init 0.6689378480838799\n",
      "iter 35 rem 0.8624153633712905 init 0.6678889699622449\n",
      "iter 36 rem 0.860303447502409 init 0.666995209679807\n",
      "iter 37 rem 0.8584611258707644 init 0.6662289716666987\n",
      "iter 38 rem 0.8568467441352602 init 0.6655683386453729\n",
      "iter 39 rem 0.855426252021621 init 0.664995758095126\n",
      "iter 40 rem 0.8541716209223007 init 0.664497064714183\n",
      "iter 41 rem 0.8530596276518932 init 0.6640607448263028\n",
      "iter 42 rem 0.8520709113412894 init 0.663677377210739\n",
      "iter 43 rem 0.8511892361971917 init 0.6633392040886615\n",
      "iter 44 rem 0.8504009109004486 init 0.663039799171754\n",
      "iter 45 rem 0.8496943282266942 init 0.6627738088123568\n",
      "iter 46 rem 0.8490595976742681 init 0.662536748710263\n",
      "iter 47 rem 0.8484882505688156 init 0.6623248431939194\n",
      "iter 48 rem 0.8479730020220858 init 0.662134897376549\n",
      "iter 49 rem 0.8475075577626743 init 0.661964194875519\n",
      "iter 50 rem 0.847086456581866 init 0.6618104155378998\n",
      "iter 51 rem 0.8467049411960024 init 0.6616715689167479\n",
      "iter 52 rem 0.8463588518937696 init 0.661545940216704\n",
      "iter 53 rem 0.8460445385384192 init 0.6614320461623727\n",
      "iter 54 rem 0.8457587874225717 init 0.6613285988015416\n",
      "iter 55 rem 0.8454987601936406 init 0.6612344756827963\n",
      "iter 56 rem 0.8452619426304672 init 0.66114869517636\n",
      "iter 57 rem 0.8450461014932362 init 0.6610703959620529\n",
      "iter 58 rem 0.8448492480167726 init 0.6609988199069255\n",
      "iter 59 rem 0.844669606892887 init 0.6609332977106\n",
      "iter 60 rem 0.8445055898064336 init 0.6608732368185904\n",
      "iter 61 rem 0.8443557727644248 init 0.6608181112003371\n",
      "iter 62 rem 0.8442188765973871 init 0.6607674526651051\n",
      "iter 63 rem 0.8440937501243733 init 0.6607208434495425\n",
      "iter 64 rem 0.8439793555634305 init 0.6606779098589383\n",
      "iter 65 rem 0.8438747558423021 init 0.660638316782549\n",
      "iter 66 rem 0.8437791035231686 init 0.6606017629337987\n",
      "iter 67 rem 0.8436916311031288 init 0.6605679766901116\n",
      "iter 68 rem 0.8436116424910088 init 0.6605367124258108\n",
      "iter 69 rem 0.8435385054927064 init 0.6605077472457248\n",
      "iter 70 rem 0.8434716451629877 init 0.6604808780374893\n",
      "iter 71 rem 0.8434105379025241 init 0.6604559187674492\n",
      "iter 72 rem 0.8433547061958098 init 0.6604326979487399\n",
      "iter 73 rem 0.8433037138991344 init 0.6604110562106613\n",
      "iter 74 rem 0.8432571619984103 init 0.6603908438956982\n",
      "iter 75 rem 0.8432146847648254 init 0.6603719186042298\n",
      "iter 76 rem 0.8431759462421765 init 0.6603541425966182\n",
      "iter 77 rem 0.8431406370034965 init 0.6603373799472934\n",
      "iter 78 rem 0.8431084711162893 init 0.6603214933247196\n",
      "iter 79 rem 0.8430791832552162 init 0.6603063402435257\n",
      "iter 80 rem 0.8430525258983488 init 0.6602917685991243\n",
      "iter 81 rem 0.8430282665378095 init 0.6602776112489455\n",
      "iter 82 rem 0.8430061848275003 init 0.6602636793458428\n",
      "iter 83 rem 0.8429860695791774 init 0.6602497540558083\n",
      "iter 84 rem 0.8429677155029659 init 0.6602355762013665\n",
      "iter 85 rem 0.8429509195689815 init 0.6602208332615567\n",
      "iter 86 rem 0.8429354768427457 init 0.6602051430279365\n",
      "iter 87 rem 0.8429211756183764 init 0.6601880330643065\n",
      "iter 88 rem 0.8429077916407559 init 0.660168914950909\n",
      "iter 89 rem 0.842895081172796 init 0.6601470521245286\n",
      "iter 90 rem 0.8428827726303616 init 0.6601215199803042\n",
      "iter 91 rem 0.8428705564830745 init 0.6600911568273802\n",
      "iter 92 rem 0.8428580731173145 init 0.6600545043716457\n",
      "iter 93 rem 0.8428448984007257 init 0.6600097367700649\n",
      "iter 94 rem 0.8428305268109635 init 0.6599545781722485\n",
      "iter 95 rem 0.8428143522489703 init 0.6598862103424766\n",
      "iter 96 rem 0.842795647124538 init 0.6598011748537443\n",
      "iter 97 rem 0.8427735410768621 init 0.6596952789598444\n",
      "iter 98 rem 0.8427470018820986 init 0.6595635210430586\n",
      "iter 99 rem 0.8427148227821141 init 0.6594000606463383\n",
      "2697.317492723465\n"
     ]
    }
   ],
   "source": [
    "# Training Matrix Factorization\n",
    "import time\n",
    "start = time.time()\n",
    "for i in range(iters):\n",
    "    for k in range(len(train_init.index.to_numpy())):\n",
    "        customer_weight = customer_weights[train_init['customer_id'].iloc[k]]\n",
    "        song_weight = song_weights[train_init['song_id'].iloc[k]]\n",
    "        y = train_init['score'].iloc[k]\n",
    "        \n",
    "        temp = y - np.dot(customer_weight, song_weight)\n",
    "        customer_weight_new = customer_weight + learning_rate*(temp*song_weight-reg*customer_weight)\n",
    "        song_weight_new = song_weight + learning_rate*(temp*customer_weight-reg*song_weight)\n",
    "        customer_weights[train_init['customer_id'].iloc[k]] = customer_weight_new\n",
    "        song_weights[train_init['song_id'].iloc[k]] = song_weight_new\n",
    "    estimates_train_rem = []\n",
    "    for k in range(len(train_rem.index.to_numpy())):\n",
    "        customer_weight = customer_weights[train_rem['customer_id'].iloc[k]]\n",
    "        song_weight = song_weights[train_rem['song_id'].iloc[k]]\n",
    "        estimate = np.dot(customer_weight, song_weight)\n",
    "        estimates_train_rem.append(estimate)\n",
    "    estimates_train_init = []\n",
    "    for k in range(len(train_init.index.to_numpy())):\n",
    "        customer_weight = customer_weights[train_init['customer_id'].iloc[k]]\n",
    "        song_weight = song_weights[train_init['song_id'].iloc[k]]\n",
    "        estimate = np.dot(customer_weight, song_weight)\n",
    "        estimates_train_init.append(estimate)\n",
    "    y_train_rem = train_rem['score'].to_numpy()\n",
    "    y_train_init = train_init['score'].to_numpy()\n",
    "    estimates_train_rem = np.array(estimates_train_rem)\n",
    "    estimates_train_init = np.array(estimates_train_init)\n",
    "    train_error_rem = (1/len(y_train_rem))*np.linalg.norm(y_train_rem - estimates_train_rem)**2\n",
    "    train_error_init = (1/len(y_train_init))*np.linalg.norm(y_train_init - estimates_train_init)**2\n",
    "    print(f'iter {i} rem {train_error_rem} init {train_error_init}')\n",
    "print(time.time()-start)"
   ]
  },
  {
   "cell_type": "code",
   "execution_count": 8,
   "metadata": {},
   "outputs": [],
   "source": [
    "customer_weights_df = pd.DataFrame(customer_weights)"
   ]
  },
  {
   "cell_type": "code",
   "execution_count": 9,
   "metadata": {},
   "outputs": [],
   "source": [
    "customer_weights_df = customer_weights_df.transpose()"
   ]
  },
  {
   "cell_type": "code",
   "execution_count": null,
   "metadata": {},
   "outputs": [],
   "source": [
    "customer_weights_df['customer_id'] = customer_weights_df.index"
   ]
  },
  {
   "cell_type": "code",
   "execution_count": null,
   "metadata": {},
   "outputs": [],
   "source": [
    "train_rem = train_rem.merge(customer_weights_df, on = 'customer_id', how = 'left')"
   ]
  },
  {
   "cell_type": "code",
   "execution_count": null,
   "metadata": {},
   "outputs": [],
   "source": [
    "song_weights_df = pd.DataFrame(song_weights)"
   ]
  },
  {
   "cell_type": "code",
   "execution_count": null,
   "metadata": {},
   "outputs": [],
   "source": [
    "song_weights_df = song_weights_df.transpose()"
   ]
  },
  {
   "cell_type": "code",
   "execution_count": null,
   "metadata": {},
   "outputs": [],
   "source": [
    "song_weights_df['song_id'] = song_weights_df.index"
   ]
  },
  {
   "cell_type": "code",
   "execution_count": null,
   "metadata": {},
   "outputs": [],
   "source": [
    "songs = songs.merge(song_weights_df, on = 'song_id', how = 'left')"
   ]
  },
  {
   "cell_type": "code",
   "execution_count": null,
   "metadata": {},
   "outputs": [],
   "source": [
    "estimates_train = []\n",
    "for k in range(len(train_rem.index.to_numpy())):\n",
    "    customer_weight = customer_weights[train_rem['customer_id'].iloc[k]]\n",
    "    song_weight = song_weights[train_rem['song_id'].iloc[k]]\n",
    "    estimate = np.dot(customer_weight, song_weight)\n",
    "    estimates_train.append(estimate)"
   ]
  },
  {
   "cell_type": "code",
   "execution_count": null,
   "metadata": {},
   "outputs": [],
   "source": [
    "train_rem['estimates'] = estimates_train"
   ]
  },
  {
   "cell_type": "code",
   "execution_count": null,
   "metadata": {},
   "outputs": [],
   "source": [
    "song_labels_new = song_labels.groupby('label_id').sum().sort_values('count', ascending = False)"
   ]
  },
  {
   "cell_type": "code",
   "execution_count": null,
   "metadata": {},
   "outputs": [],
   "source": [
    "song_labels_pivot = song_labels.pivot_table(index = 'platform_id', columns = 'label_id', values = 'count')"
   ]
  },
  {
   "cell_type": "code",
   "execution_count": null,
   "metadata": {},
   "outputs": [],
   "source": [
    "song_labels_pivot = song_labels_pivot.fillna(0)"
   ]
  },
  {
   "cell_type": "code",
   "execution_count": null,
   "metadata": {},
   "outputs": [],
   "source": [
    "song_labels_pivot = song_labels_pivot.applymap(lambda x: np.log(1+np.abs(x)))"
   ]
  },
  {
   "cell_type": "code",
   "execution_count": null,
   "metadata": {},
   "outputs": [],
   "source": [
    "song_labels_pivot"
   ]
  },
  {
   "cell_type": "code",
   "execution_count": null,
   "metadata": {},
   "outputs": [],
   "source": [
    "from sklearn.decomposition import NMF\n",
    "nmf = NMF(n_components=100, max_iter = 1000, verbose = 1, random_state = 1)"
   ]
  },
  {
   "cell_type": "code",
   "execution_count": null,
   "metadata": {},
   "outputs": [],
   "source": [
    "song_labels_transformed = nmf.fit_transform(song_labels_pivot)"
   ]
  },
  {
   "cell_type": "code",
   "execution_count": null,
   "metadata": {},
   "outputs": [],
   "source": [
    "song_labels_transformed.shape"
   ]
  },
  {
   "cell_type": "code",
   "execution_count": null,
   "metadata": {},
   "outputs": [],
   "source": [
    "song_labels_transformed_df = pd.DataFrame(song_labels_transformed, index = song_labels_pivot.index)"
   ]
  },
  {
   "cell_type": "code",
   "execution_count": null,
   "metadata": {},
   "outputs": [],
   "source": [
    "song_labels_transformed_df"
   ]
  },
  {
   "cell_type": "code",
   "execution_count": null,
   "metadata": {},
   "outputs": [],
   "source": [
    "songs = pd.merge(songs, song_labels_transformed_df, on = 'platform_id', how = 'left')"
   ]
  },
  {
   "cell_type": "code",
   "execution_count": null,
   "metadata": {},
   "outputs": [],
   "source": [
    "songs"
   ]
  },
  {
   "cell_type": "code",
   "execution_count": null,
   "metadata": {},
   "outputs": [],
   "source": [
    "songs = songs.drop(['platform_id'], axis = 1)"
   ]
  },
  {
   "cell_type": "code",
   "execution_count": null,
   "metadata": {},
   "outputs": [],
   "source": [
    "song_scores = train.merge(train.groupby('song_id').mean(), on = 'song_id', how = 'left')[['song_id', 'score_y']].drop_duplicates('song_id', keep = 'first')"
   ]
  },
  {
   "cell_type": "code",
   "execution_count": null,
   "metadata": {},
   "outputs": [],
   "source": [
    "songs = songs.merge(song_scores, on = 'song_id', how = 'left')"
   ]
  },
  {
   "cell_type": "code",
   "execution_count": null,
   "metadata": {},
   "outputs": [],
   "source": [
    "song_num_ratings = train['song_id'].value_counts().to_frame()"
   ]
  },
  {
   "cell_type": "code",
   "execution_count": null,
   "metadata": {},
   "outputs": [],
   "source": [
    "song_num_ratings['num_ratings'] = song_num_ratings['song_id']"
   ]
  },
  {
   "cell_type": "code",
   "execution_count": null,
   "metadata": {},
   "outputs": [],
   "source": [
    "song_num_ratings['song_id'] = song_num_ratings.index"
   ]
  },
  {
   "cell_type": "code",
   "execution_count": null,
   "metadata": {},
   "outputs": [],
   "source": [
    "songs = songs.merge(song_num_ratings, on = 'song_id', how = 'left')"
   ]
  },
  {
   "cell_type": "code",
   "execution_count": null,
   "metadata": {},
   "outputs": [],
   "source": [
    "songs.drop_duplicates('song_id', keep = 'first', inplace = True)"
   ]
  },
  {
   "cell_type": "code",
   "execution_count": null,
   "metadata": {},
   "outputs": [],
   "source": [
    "f = pd.merge(train_rem, save_for_later, on=['customer_id','song_id'], how='left', indicator='Exist')"
   ]
  },
  {
   "cell_type": "code",
   "execution_count": null,
   "metadata": {},
   "outputs": [],
   "source": [
    "train_rem = f"
   ]
  },
  {
   "cell_type": "code",
   "execution_count": null,
   "metadata": {},
   "outputs": [],
   "source": [
    "X_train = pd.merge(train_rem, songs, on = ['song_id'], how = 'left')"
   ]
  },
  {
   "cell_type": "code",
   "execution_count": null,
   "metadata": {},
   "outputs": [],
   "source": [
    "Y_train = X_train['score']"
   ]
  },
  {
   "cell_type": "code",
   "execution_count": null,
   "metadata": {},
   "outputs": [],
   "source": [
    "X_train.drop(['score'], axis = 1, inplace = True)"
   ]
  },
  {
   "cell_type": "code",
   "execution_count": null,
   "metadata": {},
   "outputs": [],
   "source": [
    "X_train['released_year'] = X_train['released_year'].fillna(-999)\n",
    "X_train['language'] = X_train['language'].fillna('none')\n",
    "X_train['number_of_comments'] = X_train['number_of_comments'].fillna(-999)"
   ]
  },
  {
   "cell_type": "code",
   "execution_count": null,
   "metadata": {},
   "outputs": [],
   "source": [
    "X_train.columns.to_numpy().tolist().index('Exist')"
   ]
  },
  {
   "cell_type": "code",
   "execution_count": 10,
   "metadata": {},
   "outputs": [],
   "source": [
    "from catboost import CatBoostRegressor"
   ]
  },
  {
   "cell_type": "code",
   "execution_count": 11,
   "metadata": {},
   "outputs": [],
   "source": [
    "model = CatBoostRegressor(cat_features = [0,1, 103, 105])"
   ]
  },
  {
   "cell_type": "code",
   "execution_count": null,
   "metadata": {},
   "outputs": [],
   "source": [
    "model.fit(X_train, Y_train, cat_features = [0,1, 103, 105], plot = True)"
   ]
  },
  {
   "cell_type": "code",
   "execution_count": null,
   "metadata": {},
   "outputs": [],
   "source": [
    "test = test.merge(customer_weights_df, on = 'customer_id', how = 'left')"
   ]
  },
  {
   "cell_type": "code",
   "execution_count": null,
   "metadata": {},
   "outputs": [],
   "source": [
    "estimates_test = []\n",
    "for k in range(len(test.index.to_numpy())):\n",
    "    customer_weight = customer_weights[test['customer_id'].iloc[k]]\n",
    "    song_weight = song_weights[test['song_id'].iloc[k]]\n",
    "    estimate = np.dot(customer_weight, song_weight)\n",
    "    estimates_test.append(estimate)"
   ]
  },
  {
   "cell_type": "code",
   "execution_count": null,
   "metadata": {},
   "outputs": [],
   "source": [
    "test['estimates'] = estimates_test"
   ]
  },
  {
   "cell_type": "code",
   "execution_count": null,
   "metadata": {},
   "outputs": [],
   "source": [
    "test = pd.merge(test, save_for_later, on=['customer_id','song_id'], how='left', indicator='Exist')"
   ]
  },
  {
   "cell_type": "code",
   "execution_count": null,
   "metadata": {},
   "outputs": [],
   "source": [
    "X_test = pd.merge(test, songs, on = ['song_id'], how = 'left')"
   ]
  },
  {
   "cell_type": "code",
   "execution_count": null,
   "metadata": {},
   "outputs": [],
   "source": [
    "X_test['released_year'] = X_test['released_year'].fillna(-999)\n",
    "X_test['language'] = X_test['language'].fillna('none')\n",
    "X_test['number_of_comments'] = X_test['number_of_comments'].fillna(-999)"
   ]
  },
  {
   "cell_type": "code",
   "execution_count": null,
   "metadata": {},
   "outputs": [],
   "source": [
    "y_test_pred = model.predict(X_test)"
   ]
  },
  {
   "cell_type": "code",
   "execution_count": null,
   "metadata": {},
   "outputs": [],
   "source": [
    "y_final = pd.DataFrame(y_test_pred)"
   ]
  },
  {
   "cell_type": "code",
   "execution_count": null,
   "metadata": {},
   "outputs": [],
   "source": [
    "y_final['score'] = y_final[0]"
   ]
  },
  {
   "cell_type": "code",
   "execution_count": null,
   "metadata": {},
   "outputs": [],
   "source": [
    "y_final.drop(0, axis = 1, inplace = True)"
   ]
  },
  {
   "cell_type": "code",
   "execution_count": null,
   "metadata": {},
   "outputs": [],
   "source": [
    "y_final['test_row_id'] = y_final.index"
   ]
  },
  {
   "cell_type": "code",
   "execution_count": null,
   "metadata": {},
   "outputs": [],
   "source": [
    "y_final = y_final[['test_row_id', 'score']]"
   ]
  },
  {
   "cell_type": "code",
   "execution_count": null,
   "metadata": {},
   "outputs": [],
   "source": [
    "y_final.to_csv('colab_nmfv2.csv', index = False)"
   ]
  },
  {
   "cell_type": "code",
   "execution_count": null,
   "metadata": {},
   "outputs": [],
   "source": []
  }
 ],
 "metadata": {
  "kernelspec": {
   "display_name": "Python 3",
   "language": "python",
   "name": "python3"
  },
  "language_info": {
   "codemirror_mode": {
    "name": "ipython",
    "version": 3
   },
   "file_extension": ".py",
   "mimetype": "text/x-python",
   "name": "python",
   "nbconvert_exporter": "python",
   "pygments_lexer": "ipython3",
   "version": "3.8.3"
  }
 },
 "nbformat": 4,
 "nbformat_minor": 4
}
