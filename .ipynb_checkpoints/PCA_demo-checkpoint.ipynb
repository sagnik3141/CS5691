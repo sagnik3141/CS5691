{
 "cells": [
  {
   "cell_type": "code",
   "execution_count": 1,
   "metadata": {
    "collapsed": true,
    "executionInfo": {
     "elapsed": 3045,
     "status": "ok",
     "timestamp": 1611566714065,
     "user": {
      "displayName": "Harish Guruprasad Ramaswamy",
      "photoUrl": "https://lh3.googleusercontent.com/a-/AOh14Gh8CZ8RQiGOkMlitSVJOqADp-1rlvubZLPR_dUGsg=s64",
      "userId": "00476157124317266551"
     },
     "user_tz": -330
    },
    "id": "G24F9Y-O6P9M"
   },
   "outputs": [],
   "source": [
    "import numpy as np\n",
    "from sklearn.datasets import load_digits\n",
    "import matplotlib.pyplot as plt\n"
   ]
  },
  {
   "cell_type": "code",
   "execution_count": 2,
   "metadata": {
    "collapsed": true,
    "executionInfo": {
     "elapsed": 3902,
     "status": "ok",
     "timestamp": 1611566714928,
     "user": {
      "displayName": "Harish Guruprasad Ramaswamy",
      "photoUrl": "https://lh3.googleusercontent.com/a-/AOh14Gh8CZ8RQiGOkMlitSVJOqADp-1rlvubZLPR_dUGsg=s64",
      "userId": "00476157124317266551"
     },
     "user_tz": -330
    },
    "id": "x85WHcEN6P9S"
   },
   "outputs": [],
   "source": [
    "dataset = load_digits()"
   ]
  },
  {
   "cell_type": "code",
   "execution_count": 3,
   "metadata": {
    "colab": {
     "base_uri": "https://localhost:8080/"
    },
    "executionInfo": {
     "elapsed": 1505,
     "status": "ok",
     "timestamp": 1611566718324,
     "user": {
      "displayName": "Harish Guruprasad Ramaswamy",
      "photoUrl": "https://lh3.googleusercontent.com/a-/AOh14Gh8CZ8RQiGOkMlitSVJOqADp-1rlvubZLPR_dUGsg=s64",
      "userId": "00476157124317266551"
     },
     "user_tz": -330
    },
    "id": "__1lwxw76P9V",
    "outputId": "b75c1e85-be46-4a75-9264-5be07c7c0da7"
   },
   "outputs": [
    {
     "name": "stdout",
     "output_type": "stream",
     "text": [
      "(1797,)\n",
      "(1797, 64)\n"
     ]
    }
   ],
   "source": [
    "print(dataset.target.shape)\n",
    "print(dataset.data.shape)\n",
    "\n",
    "X=dataset.data\n",
    "Y=dataset.target\n"
   ]
  },
  {
   "cell_type": "code",
   "execution_count": 4,
   "metadata": {
    "colab": {
     "base_uri": "https://localhost:8080/",
     "height": 303
    },
    "executionInfo": {
     "elapsed": 1810,
     "status": "ok",
     "timestamp": 1611566720966,
     "user": {
      "displayName": "Harish Guruprasad Ramaswamy",
      "photoUrl": "https://lh3.googleusercontent.com/a-/AOh14Gh8CZ8RQiGOkMlitSVJOqADp-1rlvubZLPR_dUGsg=s64",
      "userId": "00476157124317266551"
     },
     "user_tz": -330
    },
    "id": "HJw24cRQ6P9b",
    "outputId": "d5a652a7-555e-4585-e840-c06d74d2eb89"
   },
   "outputs": [
    {
     "name": "stdout",
     "output_type": "stream",
     "text": [
      "3\n"
     ]
    },
    {
     "data": {
      "text/plain": [
       "<matplotlib.colorbar.Colorbar at 0x7fa110ed2d30>"
      ]
     },
     "execution_count": 4,
     "metadata": {
      "tags": []
     },
     "output_type": "execute_result"
    },
    {
     "data": {
      "image/png": "[encoded data removed]",
      "text/plain": [
       "<Figure size 432x288 with 2 Axes>"
      ]
     },
     "metadata": {
      "needs_background": "light",
      "tags": []
     },
     "output_type": "display_data"
    }
   ],
   "source": [
    "index=789\n",
    "print(Y[index])\n",
    "plt.imshow(X[index].reshape(8,8))\n",
    "plt.colorbar()"
   ]
  },
  {
   "cell_type": "code",
   "execution_count": 5,
   "metadata": {
    "collapsed": true,
    "executionInfo": {
     "elapsed": 1082,
     "status": "ok",
     "timestamp": 1611566724439,
     "user": {
      "displayName": "Harish Guruprasad Ramaswamy",
      "photoUrl": "https://lh3.googleusercontent.com/a-/AOh14Gh8CZ8RQiGOkMlitSVJOqADp-1rlvubZLPR_dUGsg=s64",
      "userId": "00476157124317266551"
     },
     "user_tz": -330
    },
    "id": "yYyplk--6P9g"
   },
   "outputs": [],
   "source": [
    "X_bar = np.mean(X,axis=0)[None,:] # Sample mean\n",
    "S = np.dot(X.T-X_bar.T , X-X_bar)/len(X) # Compute covariance matrix\n"
   ]
  },
  {
   "cell_type": "code",
   "execution_count": 6,
   "metadata": {
    "colab": {
     "base_uri": "https://localhost:8080/"
    },
    "executionInfo": {
     "elapsed": 924,
     "status": "ok",
     "timestamp": 1611566731521,
     "user": {
      "displayName": "Harish Guruprasad Ramaswamy",
      "photoUrl": "https://lh3.googleusercontent.com/a-/AOh14Gh8CZ8RQiGOkMlitSVJOqADp-1rlvubZLPR_dUGsg=s64",
      "userId": "00476157124317266551"
     },
     "user_tz": -330
    },
    "id": "Fv9tix6P6P9j",
    "outputId": "df5c8e1f-3493-4580-f51b-c72c7468147f"
   },
   "outputs": [
    {
     "name": "stdout",
     "output_type": "stream",
     "text": [
      "(64, 64)\n"
     ]
    }
   ],
   "source": [
    "print(S.shape)"
   ]
  },
  {
   "cell_type": "code",
   "execution_count": 8,
   "metadata": {
    "colab": {
     "base_uri": "https://localhost:8080/",
     "height": 282
    },
    "executionInfo": {
     "elapsed": 1099,
     "status": "ok",
     "timestamp": 1611566744064,
     "user": {
      "displayName": "Harish Guruprasad Ramaswamy",
      "photoUrl": "https://lh3.googleusercontent.com/a-/AOh14Gh8CZ8RQiGOkMlitSVJOqADp-1rlvubZLPR_dUGsg=s64",
      "userId": "00476157124317266551"
     },
     "user_tz": -330
    },
    "id": "pYlbh2-66P9n",
    "outputId": "0cc0d5bc-dc35-4516-ce1f-cd585d980834",
    "scrolled": true
   },
   "outputs": [
    {
     "data": {
      "text/plain": [
       "[<matplotlib.lines.Line2D at 0x7fa110e16828>]"
      ]
     },
     "execution_count": 8,
     "metadata": {
      "tags": []
     },
     "output_type": "execute_result"
    },
    {
     "data": {
      "image/png": "[encoded data removed]",
      "text/plain": [
       "<Figure size 432x288 with 1 Axes>"
      ]
     },
     "metadata": {
      "needs_background": "light",
      "tags": []
     },
     "output_type": "display_data"
    }
   ],
   "source": [
    "eigenvals,eigenvecs = np.linalg.eig(S)\n",
    "# print(eigenvals) # Check if eigen vals are sorted in descending order\n",
    "plt.plot(eigenvals)"
   ]
  },
  {
   "cell_type": "code",
   "execution_count": 9,
   "metadata": {
    "colab": {
     "base_uri": "https://localhost:8080/"
    },
    "executionInfo": {
     "elapsed": 825,
     "status": "ok",
     "timestamp": 1611566747998,
     "user": {
      "displayName": "Harish Guruprasad Ramaswamy",
      "photoUrl": "https://lh3.googleusercontent.com/a-/AOh14Gh8CZ8RQiGOkMlitSVJOqADp-1rlvubZLPR_dUGsg=s64",
      "userId": "00476157124317266551"
     },
     "user_tz": -330
    },
    "id": "8tO3UL-R6P9r",
    "outputId": "69c90d75-9a78-4b86-def9-c2522e07a335"
   },
   "outputs": [
    {
     "data": {
      "text/plain": [
       "1.2425124568753666e-12"
      ]
     },
     "execution_count": 9,
     "metadata": {
      "tags": []
     },
     "output_type": "execute_result"
    }
   ],
   "source": [
    "np.linalg.norm(S- np.dot(eigenvecs , np.dot(np.diag(eigenvals),eigenvecs.T) )) # Check if S=V*Lambda*V^T"
   ]
  },
  {
   "cell_type": "code",
   "execution_count": 17,
   "metadata": {
    "collapsed": true,
    "executionInfo": {
     "elapsed": 802,
     "status": "ok",
     "timestamp": 1611566779082,
     "user": {
      "displayName": "Harish Guruprasad Ramaswamy",
      "photoUrl": "https://lh3.googleusercontent.com/a-/AOh14Gh8CZ8RQiGOkMlitSVJOqADp-1rlvubZLPR_dUGsg=s64",
      "userId": "00476157124317266551"
     },
     "user_tz": -330
    },
    "id": "T66OHRXX6P9v"
   },
   "outputs": [],
   "source": [
    "M=40\n",
    "D=64\n",
    "N=len(X)\n",
    "U = np.array(eigenvecs) # Columns of U form the principal components.\n",
    "\n",
    "# Check out other solutions (corresponding to different affine spaces and see how they perform)\n",
    "# U = np.random.randn(D,D)\n",
    "# Q,R = np.linalg.qr(U) # QR decomposition\n",
    "# U = np.array(Q) # Now U is some random orthonormal basis."
   ]
  },
  {
   "cell_type": "code",
   "execution_count": 18,
   "metadata": {
    "collapsed": true,
    "executionInfo": {
     "elapsed": 584,
     "status": "ok",
     "timestamp": 1611566779427,
     "user": {
      "displayName": "Harish Guruprasad Ramaswamy",
      "photoUrl": "https://lh3.googleusercontent.com/a-/AOh14Gh8CZ8RQiGOkMlitSVJOqADp-1rlvubZLPR_dUGsg=s64",
      "userId": "00476157124317266551"
     },
     "user_tz": -330
    },
    "id": "7WldURVV6P9z"
   },
   "outputs": [],
   "source": [
    "Z = np.zeros((N,M)) \n",
    "b = np.zeros(D)"
   ]
  },
  {
   "cell_type": "code",
   "execution_count": 19,
   "metadata": {
    "collapsed": true,
    "executionInfo": {
     "elapsed": 1039,
     "status": "ok",
     "timestamp": 1611566780352,
     "user": {
      "displayName": "Harish Guruprasad Ramaswamy",
      "photoUrl": "https://lh3.googleusercontent.com/a-/AOh14Gh8CZ8RQiGOkMlitSVJOqADp-1rlvubZLPR_dUGsg=s64",
      "userId": "00476157124317266551"
     },
     "user_tz": -330
    },
    "id": "hmnxywru6P93"
   },
   "outputs": [],
   "source": [
    "for n in range(N):\n",
    "    for i in range(M):\n",
    "        Z[n,i]= np.dot(X[n],U[:,i])\n",
    "        \n",
    "for i in range(M,D):\n",
    "    b[i] = np.dot(X_bar,U[:,i])\n",
    "    "
   ]
  },
  {
   "cell_type": "code",
   "execution_count": 20,
   "metadata": {
    "colab": {
     "base_uri": "https://localhost:8080/"
    },
    "executionInfo": {
     "elapsed": 1099,
     "status": "ok",
     "timestamp": 1611566780907,
     "user": {
      "displayName": "Harish Guruprasad Ramaswamy",
      "photoUrl": "https://lh3.googleusercontent.com/a-/AOh14Gh8CZ8RQiGOkMlitSVJOqADp-1rlvubZLPR_dUGsg=s64",
      "userId": "00476157124317266551"
     },
     "user_tz": -330
    },
    "id": "pfoh45gg6P96",
    "outputId": "5ff641e1-d55b-4825-a8ab-11196490527c"
   },
   "outputs": [
    {
     "name": "stdout",
     "output_type": "stream",
     "text": [
      "(1797, 40)\n",
      "(64,)\n",
      "(64, 64)\n"
     ]
    }
   ],
   "source": [
    "# Compression is now done. X_tilde is reconstructed only from Z,b and u now.\n",
    "print(Z.shape)\n",
    "print(b.shape)\n",
    "print(U.shape)"
   ]
  },
  {
   "cell_type": "code",
   "execution_count": 21,
   "metadata": {
    "colab": {
     "base_uri": "https://localhost:8080/"
    },
    "executionInfo": {
     "elapsed": 1108,
     "status": "ok",
     "timestamp": 1611566781406,
     "user": {
      "displayName": "Harish Guruprasad Ramaswamy",
      "photoUrl": "https://lh3.googleusercontent.com/a-/AOh14Gh8CZ8RQiGOkMlitSVJOqADp-1rlvubZLPR_dUGsg=s64",
      "userId": "00476157124317266551"
     },
     "user_tz": -330
    },
    "id": "IcgG8qYt6P9_",
    "outputId": "0a222d8c-14ad-4df6-bf32-ecc739f1fbba"
   },
   "outputs": [
    {
     "name": "stdout",
     "output_type": "stream",
     "text": [
      "(1797, 64)\n"
     ]
    }
   ],
   "source": [
    "# Reconstruct X_tilde\n",
    "\n",
    "X_tilde = np.zeros(X.shape)\n",
    "\n",
    "for n in range(N):\n",
    "    for i in range(M):\n",
    "        X_tilde[n,:] += Z[n,i]*U[:,i].T\n",
    "        \n",
    "    for i in range(M,D):\n",
    "        X_tilde[n,:] += b[i]*U[:,i].T\n",
    "        \n",
    "        \n",
    "print(X_tilde.shape)\n",
    "        \n"
   ]
  },
  {
   "cell_type": "code",
   "execution_count": 22,
   "metadata": {
    "colab": {
     "base_uri": "https://localhost:8080/",
     "height": 579
    },
    "executionInfo": {
     "elapsed": 1387,
     "status": "ok",
     "timestamp": 1611566782286,
     "user": {
      "displayName": "Harish Guruprasad Ramaswamy",
      "photoUrl": "https://lh3.googleusercontent.com/a-/AOh14Gh8CZ8RQiGOkMlitSVJOqADp-1rlvubZLPR_dUGsg=s64",
      "userId": "00476157124317266551"
     },
     "user_tz": -330
    },
    "id": "SAKWKguR6P-C",
    "outputId": "993f839e-7632-4fa9-bb3c-c59f2a99b55b"
   },
   "outputs": [
    {
     "name": "stdout",
     "output_type": "stream",
     "text": [
      "4\n"
     ]
    },
    {
     "data": {
      "text/plain": [
       "<matplotlib.colorbar.Colorbar at 0x7fa107eb3550>"
      ]
     },
     "execution_count": 22,
     "metadata": {
      "tags": []
     },
     "output_type": "execute_result"
    },
    {
     "data": {
      "image/png": "[encoded data removed]",
      "text/plain": [
       "<Figure size 432x288 with 2 Axes>"
      ]
     },
     "metadata": {
      "needs_background": "light",
      "tags": []
     },
     "output_type": "display_data"
    },
    {
     "data": {
      "image/png": "[encoded data removed]",
      "text/plain": [
       "<Figure size 432x288 with 2 Axes>"
      ]
     },
     "metadata": {
      "needs_background": "light",
      "tags": []
     },
     "output_type": "display_data"
    }
   ],
   "source": [
    "# Comparatively visualise X and X_tilde to see how good the approximation is\n",
    "index=68\n",
    "print(Y[index])\n",
    "\n",
    "plt.figure()\n",
    "plt.title(\"Original data X visualised\")\n",
    "plt.imshow(X[index].reshape(8,8))\n",
    "plt.colorbar()\n",
    "\n",
    "plt.figure()\n",
    "plt.title(\"X_tilde visualised with M = \"+str(M))\n",
    "plt.imshow(X_tilde[index].reshape(8,8))\n",
    "plt.colorbar()\n"
   ]
  },
  {
   "cell_type": "code",
   "execution_count": 16,
   "metadata": {
    "colab": {
     "base_uri": "https://localhost:8080/"
    },
    "executionInfo": {
     "elapsed": 897,
     "status": "ok",
     "timestamp": 1611566768694,
     "user": {
      "displayName": "Harish Guruprasad Ramaswamy",
      "photoUrl": "https://lh3.googleusercontent.com/a-/AOh14Gh8CZ8RQiGOkMlitSVJOqADp-1rlvubZLPR_dUGsg=s64",
      "userId": "00476157124317266551"
     },
     "user_tz": -330
    },
    "id": "rPs1xi2C6P-F",
    "outputId": "372177db-0b66-4ad5-f49c-a716b0843f27"
   },
   "outputs": [
    {
     "name": "stdout",
     "output_type": "stream",
     "text": [
      "314.5149712422968\n"
     ]
    }
   ],
   "source": [
    "# Compute average squared distance\n",
    "avg_sqd_distance = np.sum((X-X_tilde)**2)/len(X)\n",
    "print(avg_sqd_distance)"
   ]
  },
  {
   "cell_type": "code",
   "execution_count": null,
   "metadata": {
    "id": "qU9YgPX96P-I",
    "outputId": "e8822877-0694-4065-854f-0b327c60edcd"
   },
   "outputs": [
    {
     "data": {
      "text/plain": [
       "314.5149712422969"
      ]
     },
     "execution_count": 51,
     "metadata": {
      "tags": []
     },
     "output_type": "execute_result"
    }
   ],
   "source": [
    "# Best solution has average squared distance equal to sum of last D-M eigen values of S\n",
    "np.sum(eigenvals[M:D])"
   ]
  },
  {
   "cell_type": "code",
   "execution_count": null,
   "metadata": {
    "collapsed": true,
    "id": "3t0isKOe6P-K"
   },
   "outputs": [],
   "source": []
  }
 ],
 "metadata": {
  "colab": {
   "name": "PCA_demo.ipynb",
   "provenance": []
  },
  "kernelspec": {
   "display_name": "Python 3",
   "language": "python",
   "name": "python3"
  },
  "language_info": {
   "codemirror_mode": {
    "name": "ipython",
    "version": 3
   },
   "file_extension": ".py",
   "mimetype": "text/x-python",
   "name": "python",
   "nbconvert_exporter": "python",
   "pygments_lexer": "ipython3",
   "version": "3.8.3"
  }
 },
 "nbformat": 4,
 "nbformat_minor": 1
}
