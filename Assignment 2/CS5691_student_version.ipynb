{
 "cells": [
  {
   "cell_type": "markdown",
   "metadata": {
    "id": "_QmWxLLA2YOF"
   },
   "source": [
    "# General Instructions to students:\n",
    "\n",
    "1. There are 5 types of cells in this notebook. The cell type will be indicated within the cell.\n",
    "    1. Markdown cells with problem written in it. (DO NOT TOUCH THESE CELLS) (**Cell type: TextRead**)\n",
    "    2. Python cells with setup code for further evaluations. (DO NOT TOUCH THESE CELLS) (**Cell type: CodeRead**)\n",
    "    3. Python code cells with some template code or empty cell. (FILL CODE IN THESE CELLS BASED ON INSTRUCTIONS IN CURRENT AND PREVIOUS CELLS) (**Cell type: CodeWrite**)\n",
    "    4. Markdown cells where a written reasoning or conclusion is expected. (WRITE SENTENCES IN THESE CELLS) (**Cell type: TextWrite**)\n",
    "    5. Temporary code cells for convenience and TAs. (YOU MAY DO WHAT YOU WILL WITH THESE CELLS, TAs WILL REPLACE WHATEVER YOU WRITE HERE WITH OFFICIAL EVALUATION CODE) (**Cell type: Convenience**)\n",
    "    \n",
    "2. You are not allowed to insert new cells in the submitted notebook.\n",
    "\n",
    "3. You are not allowed to **import** any extra packages.\n",
    "\n",
    "4. The code is to be written in Python 3.6 syntax. Latest versions of other packages maybe assumed.\n",
    "\n",
    "5. In CodeWrite Cells, the only outputs to be given are plots asked in the question. Nothing else to be output/print. \n",
    "\n",
    "6. If TextWrite cells ask you to give accuracy/error/other numbers you can print them on the code cells, but remove the print statements before submitting.\n",
    "\n",
    "7. Any runtime failures on the submitted notebook as it is will get zero marks.\n",
    "\n",
    "8. All code must be written by yourself. Copying from other students/material on the web is strictly prohibited. Any violations will result in zero marks.\n",
    "\n",
    "9. The dataset is given as .npz file, and will contain data in  numpy array. \n",
    "\n",
    "10. All plots must be labelled properly, all tables must have rows and columns named properly.\n",
    "\n",
    "11. You are allowed to use the numpy library to calculate eigen values. All other functions for reconstruction, clustering, etc., should be written from scratch.\n",
    "\n",
    "12. Change the name of the file with your roll no.\n",
    "\n"
   ]
  },
  {
   "cell_type": "code",
   "execution_count": 1,
   "metadata": {
    "id": "bLOjYzzA2YOI"
   },
   "outputs": [],
   "source": [
    "# Cell type : CodeRead\n",
    "\n",
    "import numpy as np\n",
    "import matplotlib.pyplot as plt\n"
   ]
  },
  {
   "cell_type": "markdown",
   "metadata": {
    "id": "s3PBeaFv2YOO"
   },
   "source": [
    "**Cell type : TextRead**\n",
    "\n",
    "# Problem 5: Life in Lower Dimensions\n",
    "\n",
    "You are provided with a dataset of 1797 images - each image is 8x8 pixels and provided as a feature vector of length 64. You will try your hands at transforming this dataset to a lower-dimensional space using PCA, and perform K-means clustering the images in this reduced space.\n",
    " \n",
    "\n",
    "\n"
   ]
  },
  {
   "cell_type": "code",
   "execution_count": 8,
   "metadata": {
    "id": "U2idb_9Tbj6i"
   },
   "outputs": [],
   "source": [
    "# Cell type : CodeWrite\n",
    "# write the function for PCA and K-means clustering here. \n",
    "\n",
    "def PCA(dataset, m_dim):\n",
    "    \"\"\" Implements PCA on the provided dataset.\n",
    "    \n",
    "    Arguments:\n",
    "        \n",
    "        dataset - shape n*d\n",
    "        m_dim - number of principal components\n",
    "        \n",
    "    Returns:\n",
    "    \n",
    "        dataset_pca - shape m*d\n",
    "        v - the set of orthogonal basis vectors of the target space\n",
    "    \"\"\"\n",
    "    \n",
    "    # Finding the covariance matrix\n",
    "    X = dataset.T\n",
    "    x_bar = np.mean(X, axis = 1)\n",
    "    S = (1/X.shape[1])*np.matmul(X-x_bar[:, np.newaxis], (X-x_bar[:, np.newaxis]).T)\n",
    "    \n",
    "    # Finding eigenvalues and eigenvectors\n",
    "    \n",
    "    w, v = np.linalg.eig(S)\n",
    "    \n",
    "    # Transforming the data to a lower dimension space\n",
    "    \n",
    "    X_transformed = np.matmul(v[:, :m_dim].T, X)\n",
    "    \n",
    "    dataset_pca = X_transformed.T\n",
    "    \n",
    "    return dataset_pca, v,\n",
    "\n",
    "def Kmeans(dataset, k):\n",
    "    \"\"\"\" Implements K-Means Clustering on the provided dataset\n",
    "    \n",
    "    Arguments:\n",
    "    \n",
    "        dataset - shape m*d\n",
    "    \"\"\"   \n",
    "    pass"
   ]
  },
  {
   "cell_type": "markdown",
   "metadata": {
    "id": "t1TtiFGnbja_"
   },
   "source": []
  },
  {
   "cell_type": "markdown",
   "metadata": {
    "id": "oxn_5V_M2YOa"
   },
   "source": [
    "**Cell type : TextRead**\n",
    "\n",
    "# Problem 5\n",
    "\n",
    "#### 5a) Run PCA algorithm on the given data-set. Plot the cumulative percentage variance explained by the principal components. Report the number of principal components that contribute to 90% of the variance in the dataset.\n",
    "\n",
    "\n"
   ]
  },
  {
   "cell_type": "code",
   "execution_count": 10,
   "metadata": {
    "id": "03-5tY9-2YOc"
   },
   "outputs": [
    {
     "data": {
      "text/plain": [
       "[<matplotlib.lines.Line2D at 0x24cc47c5160>]"
      ]
     },
     "execution_count": 10,
     "metadata": {},
     "output_type": "execute_result"
    },
    {
     "data": {
      "image/png": "[encoded data removed]",
      "text/plain": [
       "<Figure size 432x288 with 1 Axes>"
      ]
     },
     "metadata": {
      "needs_background": "light"
     },
     "output_type": "display_data"
    }
   ],
   "source": [
    "# Cell type : CodeWrite\n",
    "# write the code for loading the data, running the PCA algorithm, and plotting. \n",
    "# (Use the functions written previously.)\n",
    "\n",
    "dataset = np.load('Data.npz')\n",
    "dataset = dataset.f.arr_0\n",
    "X = dataset.T\n",
    "x_bar = np.mean(X, axis = 1)\n",
    "S = (1/X.shape[1])*np.matmul(X-x_bar[:, np.newaxis], (X-x_bar[:, np.newaxis]).T)\n",
    "variance = []\n",
    "dataset_pca, v= PCA(dataset, 1)\n",
    "for i in range(dataset.shape[1]):\n",
    "    variance.append(np.matmul(v[:, i].T, np.matmul(S, v[:, i])))\n",
    "variance = np.array(variance)    \n",
    "normalized_variance = 100*(variance/np.sum(variance))\n",
    "cum_variance = np.cumsum(normalized_variance)\n",
    "plt.plot(np.arange(cum_variance.shape[0]), cum_variance, 'ro')"
   ]
  },
  {
   "cell_type": "markdown",
   "metadata": {
    "id": "A4l-j-e-sDr1"
   },
   "source": [
    "####5b)  Perform reconstruction of data using the dimensionality-reduced data considering the number of dimensions [2,4,8,16]. Report the Mean Square Error (MSE) between the original data and reconstructed data, and interpret the optimal dimensions $\\hat{d}$ based on the MSE values.\n",
    "\n"
   ]
  },
  {
   "cell_type": "code",
   "execution_count": null,
   "metadata": {
    "id": "-imwHLynsTee"
   },
   "outputs": [],
   "source": [
    "# Cell type : CodeWrite\n",
    "# Write the code for data reconstruction, run the algorithm for dimensions.\n",
    "\n",
    "def reconstruction(dataset)\n",
    "\n"
   ]
  },
  {
   "cell_type": "markdown",
   "metadata": {
    "id": "n0T5nHANsIVE"
   },
   "source": [
    "####5c) Apply K-means clustering on the reduced dataset from last subpart (b) (i.e., the $R^{64}$ to $R^\\hat{d}$ reduced dataset; pick the initial k points as cluster centers during initialization). Report the optimal choice of K you have made from the set [1...15]. Which method did you choose to find the optimum number of clusters? And explain briefy why you chose that method. Also, show the 2D scatter plot (consider only the first two dimensions of optimal $\\hat{d}$) of the datapoints based on the cluster predicted by K-means (use different color for each cluster).\n"
   ]
  },
  {
   "cell_type": "code",
   "execution_count": null,
   "metadata": {
    "id": "mo_Cwhtgc6YF"
   },
   "outputs": [],
   "source": [
    "# Cell type : CodeWrite\n",
    "# Write the code for dimensionality reduction, run k-means algorithm on the reduced data-set and do plotting.\n"
   ]
  },
  {
   "cell_type": "markdown",
   "metadata": {
    "id": "FOV0CPf5sJ-v"
   },
   "source": [
    "####5d) In the next TextWrite cell, Summarise and explain your observations from the above experiments. Is the PCA+K-means clustering consistent with how your brain would cluster the images?\n",
    "\n"
   ]
  },
  {
   "cell_type": "markdown",
   "metadata": {
    "id": "2u5_HkyasqAo"
   },
   "source": [
    "**Cell type : TextWrite**\n",
    "\n",
    "Report your observations, MSE values and the method used to choose the optimal number of clusters.\n",
    "\n"
   ]
  }
 ],
 "metadata": {
  "colab": {
   "collapsed_sections": [],
   "name": "CS5691_student_version.ipynb",
   "provenance": []
  },
  "kernelspec": {
   "display_name": "Python 3",
   "language": "python",
   "name": "python3"
  },
  "language_info": {
   "codemirror_mode": {
    "name": "ipython",
    "version": 3
   },
   "file_extension": ".py",
   "mimetype": "text/x-python",
   "name": "python",
   "nbconvert_exporter": "python",
   "pygments_lexer": "ipython3",
   "version": "3.8.3"
  }
 },
 "nbformat": 4,
 "nbformat_minor": 1
}
