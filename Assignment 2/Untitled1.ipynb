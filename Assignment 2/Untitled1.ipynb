{
 "cells": [
  {
   "cell_type": "code",
   "execution_count": 1,
   "metadata": {},
   "outputs": [],
   "source": [
    "import numpy as np\n",
    "import matplotlib.pyplot as plt"
   ]
  },
  {
   "cell_type": "code",
   "execution_count": 2,
   "metadata": {},
   "outputs": [],
   "source": [
    "def PCA(X, M):\n",
    "    \n",
    "    X_bar = np.mean(X,axis=0)[None,:]\n",
    "    S = np.dot(X.T-X_bar.T , X-X_bar)/len(X)\n",
    "    \n",
    "    eigenvals,eigenvecs = np.linalg.eig(S)\n",
    "    \n",
    "    D = X.shape[1]\n",
    "    N = X.shape[0]\n",
    "    \n",
    "    U = np.array(eigenvecs)\n",
    "    \n",
    "    Z = np.zeros((N,M)) \n",
    "    b = np.zeros(D)\n",
    "    \n",
    "    for n in range(N):\n",
    "        for i in range(M):\n",
    "            Z[n,i]= np.dot(X[n],U[:,i])\n",
    "\n",
    "    for i in range(M,D):\n",
    "        b[i] = np.dot(X_bar,U[:,i])\n",
    "        \n",
    "    return Z, b"
   ]
  },
  {
   "cell_type": "code",
   "execution_count": null,
   "metadata": {},
   "outputs": [],
   "source": []
  }
 ],
 "metadata": {
  "kernelspec": {
   "display_name": "Python 3",
   "language": "python",
   "name": "python3"
  },
  "language_info": {
   "codemirror_mode": {
    "name": "ipython",
    "version": 3
   },
   "file_extension": ".py",
   "mimetype": "text/x-python",
   "name": "python",
   "nbconvert_exporter": "python",
   "pygments_lexer": "ipython3",
   "version": "3.8.3"
  }
 },
 "nbformat": 4,
 "nbformat_minor": 4
}
