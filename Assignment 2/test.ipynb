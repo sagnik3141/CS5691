{
 "cells": [
  {
   "cell_type": "code",
   "execution_count": 1,
   "metadata": {},
   "outputs": [],
   "source": [
    "import numpy as np\n",
    "import matplotlib.pyplot as plt"
   ]
  },
  {
   "cell_type": "code",
   "execution_count": 3,
   "metadata": {},
   "outputs": [],
   "source": [
    "dataset = np.load('Data.npz')"
   ]
  },
  {
   "cell_type": "code",
   "execution_count": 4,
   "metadata": {},
   "outputs": [],
   "source": [
    "dataset = dataset.f.arr_0"
   ]
  },
  {
   "cell_type": "code",
   "execution_count": 5,
   "metadata": {},
   "outputs": [
    {
     "data": {
      "text/plain": [
       "array([[ 0.,  0.,  5., ...,  0.,  0.,  0.],\n",
       "       [ 0.,  0.,  0., ..., 10.,  0.,  0.],\n",
       "       [ 0.,  0.,  0., ..., 16.,  9.,  0.],\n",
       "       ...,\n",
       "       [ 0.,  0.,  1., ...,  6.,  0.,  0.],\n",
       "       [ 0.,  0.,  2., ..., 12.,  0.,  0.],\n",
       "       [ 0.,  0., 10., ..., 12.,  1.,  0.]])"
      ]
     },
     "execution_count": 5,
     "metadata": {},
     "output_type": "execute_result"
    }
   ],
   "source": [
    "dataset"
   ]
  },
  {
   "cell_type": "code",
   "execution_count": 6,
   "metadata": {},
   "outputs": [
    {
     "data": {
      "text/plain": [
       "(1797, 64)"
      ]
     },
     "execution_count": 6,
     "metadata": {},
     "output_type": "execute_result"
    }
   ],
   "source": [
    "dataset.shape"
   ]
  },
  {
   "cell_type": "code",
   "execution_count": 7,
   "metadata": {},
   "outputs": [
    {
     "data": {
      "text/plain": [
       "(64, 1797)"
      ]
     },
     "execution_count": 7,
     "metadata": {},
     "output_type": "execute_result"
    }
   ],
   "source": [
    "X = dataset.T\n",
    "X.shape"
   ]
  },
  {
   "cell_type": "code",
   "execution_count": 10,
   "metadata": {},
   "outputs": [],
   "source": [
    "x_bar = np.mean(X, axis = 1)"
   ]
  },
  {
   "cell_type": "code",
   "execution_count": 11,
   "metadata": {},
   "outputs": [
    {
     "data": {
      "text/plain": [
       "(64,)"
      ]
     },
     "execution_count": 11,
     "metadata": {},
     "output_type": "execute_result"
    }
   ],
   "source": [
    "x_bar.shape"
   ]
  },
  {
   "cell_type": "code",
   "execution_count": 14,
   "metadata": {},
   "outputs": [
    {
     "data": {
      "text/plain": [
       "(64, 1797)"
      ]
     },
     "execution_count": 14,
     "metadata": {},
     "output_type": "execute_result"
    }
   ],
   "source": [
    "(X-x_bar[:,np.newaxis]).shape"
   ]
  },
  {
   "cell_type": "code",
   "execution_count": 15,
   "metadata": {},
   "outputs": [],
   "source": [
    "S = (1/X.shape[1])*np.matmul(X-x_bar[:, np.newaxis], (X-x_bar[:, np.newaxis]).T)"
   ]
  },
  {
   "cell_type": "code",
   "execution_count": 16,
   "metadata": {},
   "outputs": [
    {
     "data": {
      "text/plain": [
       "(64, 64)"
      ]
     },
     "execution_count": 16,
     "metadata": {},
     "output_type": "execute_result"
    }
   ],
   "source": [
    "S.shape"
   ]
  },
  {
   "cell_type": "code",
   "execution_count": 17,
   "metadata": {},
   "outputs": [],
   "source": [
    "w, v = np.linalg.eig(S)"
   ]
  },
  {
   "cell_type": "code",
   "execution_count": 18,
   "metadata": {},
   "outputs": [
    {
     "data": {
      "text/plain": [
       "array([1.78907316e+02, 1.63626641e+02, 1.41709536e+02, 1.01044115e+02,\n",
       "       6.94744827e+01, 5.90756320e+01, 5.18556662e+01, 4.39906130e+01,\n",
       "       4.02885629e+01, 3.69912020e+01, 2.85031708e+01, 2.73059660e+01,\n",
       "       2.18893003e+01, 2.13124899e+01, 1.76269077e+01, 1.69374332e+01,\n",
       "       1.58425689e+01, 1.49961105e+01, 1.22276649e+01, 1.08808010e+01,\n",
       "       1.06876155e+01, 9.57726524e+00, 9.22126826e+00, 8.68553268e+00,\n",
       "       8.36095658e+00, 7.16179198e+00, 6.91588809e+00, 6.18950881e+00,\n",
       "       5.88171633e+00, 5.15299774e+00, 4.48879723e+00, 4.24451468e+00,\n",
       "       4.04518650e+00, 3.94120891e+00, 3.70440987e+00, 3.52968776e+00,\n",
       "       3.08285758e+00, 2.73627648e+00, 2.67062197e+00, 2.54029121e+00,\n",
       "       2.28171700e+00, 1.90618094e+00, 1.81615447e+00, 1.68902395e+00,\n",
       "       1.40119202e+00, 1.29149979e+00, 1.15828926e+00, 9.30701800e-01,\n",
       "       6.69477833e-01, 4.85794730e-01, 2.52210004e-01, 9.90976176e-02,\n",
       "       6.30956535e-02, 6.07039586e-02, 3.96441561e-02, 1.49422438e-02,\n",
       "       8.46835749e-03, 3.62164306e-03, 1.27634048e-03, 6.60902920e-04,\n",
       "       4.11993910e-04, 0.00000000e+00, 0.00000000e+00, 0.00000000e+00])"
      ]
     },
     "execution_count": 18,
     "metadata": {},
     "output_type": "execute_result"
    }
   ],
   "source": [
    "w"
   ]
  },
  {
   "cell_type": "code",
   "execution_count": 19,
   "metadata": {},
   "outputs": [
    {
     "data": {
      "text/plain": [
       "array([[ 0.        ,  0.        ,  0.        , ...,  1.        ,\n",
       "         0.        ,  0.        ],\n",
       "       [ 0.01730947,  0.01010646, -0.01834207, ...,  0.        ,\n",
       "         0.        ,  0.        ],\n",
       "       [ 0.22342883,  0.04908492, -0.12647554, ...,  0.        ,\n",
       "         0.        ,  0.        ],\n",
       "       ...,\n",
       "       [ 0.08941847, -0.17669712, -0.23208416, ...,  0.        ,\n",
       "         0.        ,  0.        ],\n",
       "       [ 0.03659771, -0.01945471, -0.16702656, ...,  0.        ,\n",
       "         0.        ,  0.        ],\n",
       "       [ 0.0114685 ,  0.00669694, -0.03480438, ...,  0.        ,\n",
       "         0.        ,  0.        ]])"
      ]
     },
     "execution_count": 19,
     "metadata": {},
     "output_type": "execute_result"
    }
   ],
   "source": [
    "v"
   ]
  },
  {
   "cell_type": "code",
   "execution_count": 24,
   "metadata": {},
   "outputs": [
    {
     "data": {
      "text/plain": [
       "1.0"
      ]
     },
     "execution_count": 24,
     "metadata": {},
     "output_type": "execute_result"
    }
   ],
   "source": [
    "np.linalg.norm(v[:, 63])"
   ]
  },
  {
   "cell_type": "code",
   "execution_count": 28,
   "metadata": {},
   "outputs": [
    {
     "data": {
      "text/plain": [
       "array([ 0.00000000e+00,  5.98484717e-03,  6.32848035e-04,  2.56864834e-04,\n",
       "        5.26376843e-05, -2.14441170e-04,  6.11124680e-04, -1.70868764e-03,\n",
       "        8.60545169e-05, -4.67400627e-04,  2.55177501e-04,  9.27505520e-05,\n",
       "       -2.18979509e-04,  3.75061720e-05, -2.84280141e-04,  1.36185054e-03,\n",
       "       -6.02880581e-03,  2.86913754e-04, -2.93493317e-04, -8.05590263e-05,\n",
       "        3.33149822e-04, -3.35948183e-04,  7.17023568e-04, -1.04031488e-02,\n",
       "        1.20740369e-02, -7.99367443e-05, -1.01625541e-05,  1.21827525e-04,\n",
       "       -4.73747331e-05, -3.22902081e-05, -2.61805839e-05,  1.87247766e-01,\n",
       "        0.00000000e+00, -2.28658497e-04,  7.31488084e-05,  1.59117826e-04,\n",
       "       -2.71686967e-04,  8.51698727e-05,  1.75663807e-04,  0.00000000e+00,\n",
       "        2.52810261e-02,  5.32711829e-04,  5.29649785e-05, -2.59044812e-04,\n",
       "        2.95546543e-04,  2.63983103e-04, -1.04722329e-04,  3.10048674e-04,\n",
       "       -6.04357890e-02, -1.87044851e-03,  9.91239368e-05, -1.59106199e-05,\n",
       "       -6.46880291e-05, -7.92063389e-05, -5.51109702e-05, -3.90596227e-04,\n",
       "        9.79935622e-01, -5.87828779e-03, -5.76319719e-04, -2.01354612e-05,\n",
       "       -1.40574692e-04,  1.34285352e-04,  2.28116928e-04, -4.09336178e-04])"
      ]
     },
     "execution_count": 28,
     "metadata": {},
     "output_type": "execute_result"
    }
   ],
   "source": [
    "v[:, 60]"
   ]
  },
  {
   "cell_type": "code",
   "execution_count": 29,
   "metadata": {},
   "outputs": [
    {
     "data": {
      "text/plain": [
       "-6.522560269672795e-16"
      ]
     },
     "execution_count": 29,
     "metadata": {},
     "output_type": "execute_result"
    }
   ],
   "source": [
    "np.matmul(v[:,10].T, v[:, 24])"
   ]
  },
  {
   "cell_type": "code",
   "execution_count": 31,
   "metadata": {},
   "outputs": [],
   "source": [
    "m_dim = 10\n",
    "X_transformed = np.matmul(v[:, :m_dim].T, X)"
   ]
  },
  {
   "cell_type": "code",
   "execution_count": 32,
   "metadata": {},
   "outputs": [
    {
     "data": {
      "text/plain": [
       "(10, 1797)"
      ]
     },
     "execution_count": 32,
     "metadata": {},
     "output_type": "execute_result"
    }
   ],
   "source": [
    "X_transformed.shape"
   ]
  },
  {
   "cell_type": "code",
   "execution_count": 37,
   "metadata": {},
   "outputs": [],
   "source": [
    "test = X[:,131].reshape(8,8)"
   ]
  },
  {
   "cell_type": "code",
   "execution_count": 38,
   "metadata": {},
   "outputs": [
    {
     "data": {
      "text/plain": [
       "<matplotlib.image.AxesImage at 0x1d6c30bae20>"
      ]
     },
     "execution_count": 38,
     "metadata": {},
     "output_type": "execute_result"
    },
    {
     "data": {
      "image/png": "[encoded data removed]",
      "text/plain": [
       "<Figure size 432x288 with 1 Axes>"
      ]
     },
     "metadata": {
      "needs_background": "light"
     },
     "output_type": "display_data"
    }
   ],
   "source": [
    "plt.imshow(test)"
   ]
  },
  {
   "cell_type": "code",
   "execution_count": 39,
   "metadata": {},
   "outputs": [],
   "source": [
    "a = np.array([1,3,5,7,9,11])\n",
    "b = np.cumsum(a)"
   ]
  },
  {
   "cell_type": "code",
   "execution_count": 40,
   "metadata": {},
   "outputs": [
    {
     "data": {
      "text/plain": [
       "array([ 1,  4,  9, 16, 25, 36], dtype=int32)"
      ]
     },
     "execution_count": 40,
     "metadata": {},
     "output_type": "execute_result"
    }
   ],
   "source": [
    "b"
   ]
  },
  {
   "cell_type": "code",
   "execution_count": null,
   "metadata": {},
   "outputs": [],
   "source": []
  }
 ],
 "metadata": {
  "kernelspec": {
   "display_name": "Python 3",
   "language": "python",
   "name": "python3"
  },
  "language_info": {
   "codemirror_mode": {
    "name": "ipython",
    "version": 3
   },
   "file_extension": ".py",
   "mimetype": "text/x-python",
   "name": "python",
   "nbconvert_exporter": "python",
   "pygments_lexer": "ipython3",
   "version": "3.8.3"
  }
 },
 "nbformat": 4,
 "nbformat_minor": 4
}
